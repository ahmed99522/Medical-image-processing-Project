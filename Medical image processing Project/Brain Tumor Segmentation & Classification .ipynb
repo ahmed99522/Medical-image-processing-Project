{
 "cells": [
  {
   "cell_type": "markdown",
   "metadata": {},
   "source": [
    "# ------------------- Brain Tumor Segmentation & Classification -------------------"
   ]
  },
  {
   "cell_type": "markdown",
   "metadata": {},
   "source": [
    "### Import Libraries"
   ]
  },
  {
   "cell_type": "code",
   "execution_count": 1,
   "metadata": {},
   "outputs": [],
   "source": [
    "import cv2\n",
    "import numpy as np\n",
    "import matplotlib.pyplot as plt\n",
    "from PIL import Image\n",
    "import glob"
   ]
  },
  {
   "cell_type": "markdown",
   "metadata": {},
   "source": [
    "### Read Images Dataset Path"
   ]
  },
  {
   "cell_type": "code",
   "execution_count": 2,
   "metadata": {},
   "outputs": [],
   "source": [
    "path_yes = glob.glob(\"C:/Users/moham/Desktop/Medical Image Processing Project/dataset_yes/*.jpg\")\n",
    "path_no = glob.glob(\"C:/Users/moham/Desktop/Medical Image Processing Project/dataset_no/*.jpg\")"
   ]
  },
  {
   "cell_type": "markdown",
   "metadata": {},
   "source": [
    "### Segmentation - Brain With Tumor"
   ]
  },
  {
   "cell_type": "code",
   "execution_count": 3,
   "metadata": {},
   "outputs": [],
   "source": [
    "i = 0\n",
    "for image in path_yes:\n",
    "    input_image = np.array(Image.open(image))\n",
    "    resized = cv2.resize(input_image,(512,512))\n",
    "    if(len(resized.shape) > 2):\n",
    "        \n",
    "        # Convert From RGB to GRAYScale\n",
    "        gray_image = cv2.cvtColor(resized, cv2.COLOR_RGB2GRAY)\n",
    "        \n",
    "        # Thresholding \n",
    "        T, threshold_image = cv2.threshold(gray_image,160,255,cv2.THRESH_BINARY)\n",
    "        \n",
    "        # opening\n",
    "        kernel = np.ones((7,7), 'uint8')\n",
    "        open_img=cv2.morphologyEx(threshold_image,cv2.MORPH_OPEN,kernel)\n",
    "        \n",
    "        # Closing\n",
    "        close_img=cv2.morphologyEx(open_img,cv2.MORPH_CLOSE,kernel)\n",
    "        \n",
    "            \n",
    "        # connected Components in Images\n",
    "        num_labels, labels_im, stats, centroids = cv2.connectedComponentsWithStats(close_img, connectivity = 4)\n",
    "       # print(stats)\n",
    "        for k in range(1,num_labels):\n",
    "                \n",
    "            pts = np.where(labels_im == k)\n",
    "            size = stats[k, cv2.CC_STAT_AREA]\n",
    "            if size > 5000 and size < 50000:\n",
    "                labels_im[pts] = labels_im[pts]\n",
    "            else:\n",
    "                labels_im[pts] =0\n",
    "                    \n",
    "        label_hue = np.uint8(179*labels_im/np.max(labels_im))\n",
    "        # Ignore Dividing By 0 Value Error\n",
    "        np.seterr(divide='ignore' , invalid='ignore')\n",
    "\n",
    "        blank_ch = 255*np.ones_like(label_hue)\n",
    "        labeled_img = cv2.merge([label_hue, blank_ch, blank_ch])\n",
    "        labeled_img = cv2.cvtColor(labeled_img, cv2.COLOR_HSV2BGR)\n",
    "        labeled_img[label_hue==0] = 0\n",
    "         \n",
    "        # Convert to Gray    \n",
    "        Gray = cv2.cvtColor(labeled_img , cv2.COLOR_BGR2GRAY)\n",
    "        \n",
    "            \n",
    "        cv2.imwrite('C:/Users/moham/Desktop/Medical Image Processing Project/Result_yes/0'+ str(i)+'.jpg',Gray)\n",
    "        i = i + 1"
   ]
  },
  {
   "cell_type": "markdown",
   "metadata": {},
   "source": [
    "### Segmentation - Brain With Non-Tumor"
   ]
  },
  {
   "cell_type": "code",
   "execution_count": 4,
   "metadata": {},
   "outputs": [],
   "source": [
    "i = 0\n",
    "for image in path_no:\n",
    "    input_image = np.array(Image.open(image))\n",
    "    resized = cv2.resize(input_image,(512,512))\n",
    "    if(len(resized.shape) > 2):\n",
    "        \n",
    "        # Convert From RGB to GRAYScale\n",
    "        gray_image = cv2.cvtColor(resized, cv2.COLOR_RGB2GRAY)\n",
    "        \n",
    "        \n",
    "        # Thresholding \n",
    "        T, threshold_image = cv2.threshold(gray_image,160,255,cv2.THRESH_BINARY)\n",
    "        \n",
    "        # opening\n",
    "        kernel = np.ones((7,7), 'uint8')\n",
    "        open_img=cv2.morphologyEx(threshold_image,cv2.MORPH_OPEN,kernel)\n",
    "        \n",
    "        # Closing\n",
    "        close_img=cv2.morphologyEx(open_img,cv2.MORPH_CLOSE,kernel)\n",
    "        \n",
    "            \n",
    "        # connected Components in Images\n",
    "        num_labels, labels_im, stats, centroids = cv2.connectedComponentsWithStats(close_img, connectivity = 4)\n",
    "        for k in range(1,num_labels):\n",
    "                \n",
    "            pts = np.where(labels_im == k)\n",
    "            size = stats[k, cv2.CC_STAT_AREA]\n",
    "            if size > 5000 and size < 50000:\n",
    "                labels_im[pts] = labels_im[pts]\n",
    "            else:\n",
    "                labels_im[pts] =0\n",
    "                    \n",
    "        label_hue = np.uint8(179*labels_im/np.max(labels_im))\n",
    "        # Ignore Dividing By 0 Value Error\n",
    "        np.seterr(divide='ignore' , invalid='ignore')\n",
    "\n",
    "        blank_ch = 255*np.ones_like(label_hue)\n",
    "        labeled_img = cv2.merge([label_hue, blank_ch, blank_ch])\n",
    "        labeled_img = cv2.cvtColor(labeled_img, cv2.COLOR_HSV2BGR)\n",
    "        labeled_img[label_hue==0] = 0\n",
    "         \n",
    "        # Convert to Gray    \n",
    "        Gray = cv2.cvtColor(labeled_img , cv2.COLOR_BGR2GRAY)\n",
    "        \n",
    "            \n",
    "        cv2.imwrite('C:/Users/moham/Desktop/Medical Image Processing Project/Result_no/0'+ str(i)+'.jpg',Gray)\n",
    "        i = i + 1"
   ]
  },
  {
   "cell_type": "markdown",
   "metadata": {},
   "source": [
    "### Classification - Based of Number of Blobs"
   ]
  },
  {
   "cell_type": "code",
   "execution_count": 3,
   "metadata": {
    "scrolled": true
   },
   "outputs": [
    {
     "name": "stdout",
     "output_type": "stream",
     "text": [
      "Enter Image Path: \n",
      "C:\\Users\\moham\\Desktop\\Medical Image Processing Project\\dataset_yes\\Y1.jpg\n"
     ]
    },
    {
     "data": {
      "image/png": "[encoded data removed]",
      "text/plain": [
       "<Figure size 432x288 with 1 Axes>"
      ]
     },
     "metadata": {
      "needs_background": "light"
     },
     "output_type": "display_data"
    }
   ],
   "source": [
    "print(\"Enter Image Path: \")\n",
    "Read_img = input()\n",
    "input_image = np.array(Image.open(Read_img))\n",
    "resized = cv2.resize(input_image,(512,512))\n",
    "if(len(resized.shape) > 2):\n",
    "    # Convert From RGB to GRAYScale\n",
    "    gray_image = cv2.cvtColor(resized, cv2.COLOR_RGB2GRAY)\n",
    "        \n",
    "        \n",
    "        # Thresholding \n",
    "    T, threshold_image = cv2.threshold(gray_image,160,255,cv2.THRESH_BINARY)\n",
    "        \n",
    "        # opening\n",
    "    kernel = np.ones((7,7), 'uint8')\n",
    "    open_img=cv2.morphologyEx(threshold_image,cv2.MORPH_OPEN,kernel)\n",
    "        \n",
    "        # Closing\n",
    "    close_img=cv2.morphologyEx(open_img,cv2.MORPH_CLOSE,kernel)\n",
    "        \n",
    "            \n",
    "        # connected Components in Images\n",
    "    num_labels, labels_im, stats, centroids = cv2.connectedComponentsWithStats(close_img, connectivity = 4)\n",
    "        \n",
    "    for k in range(1,num_labels):\n",
    "                \n",
    "        pts = np.where(labels_im == k)\n",
    "        size = stats[k, cv2.CC_STAT_AREA]\n",
    "        if size > 5000 and size < 50000:\n",
    "            labels_im[pts] = labels_im[pts]\n",
    "        else:\n",
    "            labels_im[pts] =0\n",
    "                    \n",
    "    label_hue = np.uint8(179*labels_im/np.max(labels_im))\n",
    "        # Ignore Dividing By 0 Value Error\n",
    "    np.seterr(divide='ignore' , invalid='ignore')\n",
    "\n",
    "    blank_ch = 255*np.ones_like(label_hue)\n",
    "    labeled_img = cv2.merge([label_hue, blank_ch, blank_ch])\n",
    "    labeled_img = cv2.cvtColor(labeled_img, cv2.COLOR_HSV2BGR)\n",
    "    labeled_img[label_hue==0] = 0\n",
    "         \n",
    "        # Convert to Gray    \n",
    "    Gray = cv2.cvtColor(labeled_img , cv2.COLOR_BGR2GRAY)\n",
    "        \n",
    "    if(num_labels > 1 ):\n",
    "        plt.title('Tumor Founded !')\n",
    "        plt.gray()\n",
    "        plt.axis('off')\n",
    "        plt.imshow(Gray)\n",
    "    else:\n",
    "        plt.title('No Tumor Founded !')\n",
    "        plt.gray()\n",
    "        plt.axis('off')\n",
    "        plt.imshow(Gray)"
   ]
  },
  {
   "cell_type": "markdown",
   "metadata": {},
   "source": [
    "## Accuracy\n",
    "\n",
    "#### TP (True Positive): Existing tumor and detected correctly. |   TN (True Negative): Non-existing tumor and not detected. \n",
    "#### FP (False Positive): Non-existing tumor and detected.          |   FN (False Negative): Existing tumor and not detected"
   ]
  },
  {
   "cell_type": "code",
   "execution_count": 32,
   "metadata": {},
   "outputs": [
    {
     "data": {
      "text/plain": [
       "73.03370786516854"
      ]
     },
     "execution_count": 32,
     "metadata": {},
     "output_type": "execute_result"
    }
   ],
   "source": [
    "(51 + 79) /(51+79+38+10) * 100"
   ]
  },
  {
   "cell_type": "markdown",
   "metadata": {},
   "source": [
    "## Sensitivity\n",
    "#### measure of successful determination of the person having a tumor"
   ]
  },
  {
   "cell_type": "code",
   "execution_count": 6,
   "metadata": {},
   "outputs": [
    {
     "data": {
      "text/plain": [
       "83.60655737704919"
      ]
     },
     "execution_count": 6,
     "metadata": {},
     "output_type": "execute_result"
    }
   ],
   "source": [
    "51 / (51 + 10) * 100"
   ]
  },
  {
   "cell_type": "markdown",
   "metadata": {},
   "source": [
    "## Specificity\n",
    "#### measure of successful determination of the person not having a tumor"
   ]
  },
  {
   "cell_type": "code",
   "execution_count": 4,
   "metadata": {},
   "outputs": [
    {
     "data": {
      "text/plain": [
       "67.52136752136752"
      ]
     },
     "execution_count": 4,
     "metadata": {},
     "output_type": "execute_result"
    }
   ],
   "source": [
    "79 / (79 + 38) * 100"
   ]
  }
 ],
 "metadata": {
  "kernelspec": {
   "display_name": "Python 3",
   "language": "python",
   "name": "python3"
  },
  "language_info": {
   "codemirror_mode": {
    "name": "ipython",
    "version": 3
   },
   "file_extension": ".py",
   "mimetype": "text/x-python",
   "name": "python",
   "nbconvert_exporter": "python",
   "pygments_lexer": "ipython3",
   "version": "3.7.3"
  }
 },
 "nbformat": 4,
 "nbformat_minor": 2
}
